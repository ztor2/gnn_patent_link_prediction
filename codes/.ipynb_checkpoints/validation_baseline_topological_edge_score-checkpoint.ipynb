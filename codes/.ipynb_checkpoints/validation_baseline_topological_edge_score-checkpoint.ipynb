{
 "cells": [
  {
   "cell_type": "code",
   "execution_count": 66,
   "metadata": {},
   "outputs": [],
   "source": [
    "import numpy as np\n",
    "import pandas as pd\n",
    "import pickle as pkl\n",
    "import json\n",
    "import scipy.sparse as sp\n",
    "\n",
    "import networkx as nx\n",
    "from networkx.readwrite import json_graph\n",
    "\n",
    "from sc_dw.utils import *\n",
    "\n",
    "from datetime import datetime, timedelta\n",
    "import time\n",
    "import random\n",
    "from collections import OrderedDict\n",
    "import warnings; warnings.filterwarnings('ignore')"
   ]
  },
  {
   "cell_type": "code",
   "execution_count": 2,
   "metadata": {},
   "outputs": [
    {
     "data": {
      "text/html": [
       "<div>\n",
       "<style scoped>\n",
       "    .dataframe tbody tr th:only-of-type {\n",
       "        vertical-align: middle;\n",
       "    }\n",
       "\n",
       "    .dataframe tbody tr th {\n",
       "        vertical-align: top;\n",
       "    }\n",
       "\n",
       "    .dataframe thead th {\n",
       "        text-align: right;\n",
       "    }\n",
       "</style>\n",
       "<table border=\"1\" class=\"dataframe\">\n",
       "  <thead>\n",
       "    <tr style=\"text-align: right;\">\n",
       "      <th></th>\n",
       "      <th>nodes</th>\n",
       "      <th>edges</th>\n",
       "    </tr>\n",
       "  </thead>\n",
       "  <tbody>\n",
       "    <tr>\n",
       "      <th>Reduced graph</th>\n",
       "      <td>322</td>\n",
       "      <td>1551</td>\n",
       "    </tr>\n",
       "    <tr>\n",
       "      <th>Reduced graph - train(1979-2020)</th>\n",
       "      <td>322</td>\n",
       "      <td>1374</td>\n",
       "    </tr>\n",
       "    <tr>\n",
       "      <th>Reduced graph - val(2019-2020)</th>\n",
       "      <td>322</td>\n",
       "      <td>177</td>\n",
       "    </tr>\n",
       "  </tbody>\n",
       "</table>\n",
       "</div>"
      ],
      "text/plain": [
       "                                  nodes  edges\n",
       "Reduced graph                       322   1551\n",
       "Reduced graph - train(1979-2020)    322   1374\n",
       "Reduced graph - val(2019-2020)      322    177"
      ]
     },
     "execution_count": 2,
     "metadata": {},
     "output_type": "execute_result"
    }
   ],
   "source": [
    "graphs = ['reduced', 'reduced_train', 'reduced_val']\n",
    "obj = []\n",
    "for graph in graphs:\n",
    "    with open('../data/'+graph +'.graph', 'r') as f:\n",
    "        data = json.load(f)\n",
    "    obj.append(data)\n",
    "reduced_g = json_graph.node_link_graph(obj[0])\n",
    "train_g = json_graph.node_link_graph(obj[1])\n",
    "val_g = json_graph.node_link_graph(obj[2])\n",
    "pd.DataFrame([[len(reduced_g.nodes()),len(reduced_g.edges())],[len(train_g.nodes()),len(train_g.edges())],[len(val_g.nodes()),len(val_g.edges())]],\n",
    "             index=['Reduced graph', 'Reduced graph - train(1979-2020)', 'Reduced graph - val(2019-2020)'], columns=['nodes', 'edges'])"
   ]
  },
  {
   "cell_type": "code",
   "execution_count": 3,
   "metadata": {},
   "outputs": [],
   "source": [
    "val_set = ['val_edges_name', 'val_non_edges_name', 'val_edges', 'val_non_edges']\n",
    "vals = []\n",
    "for val in val_set:\n",
    "    with open('../data/'+ val +'.pkl', 'rb') as f:\n",
    "        data = pkl.load(f)\n",
    "    vals.append(data)\n",
    "val_edges_name = vals[0]\n",
    "val_non_edges_name = vals[1]\n",
    "val_edges = vals[2]\n",
    "val_non_edges = vals[3]"
   ]
  },
  {
   "cell_type": "code",
   "execution_count": 4,
   "metadata": {},
   "outputs": [
    {
     "name": "stdout",
     "output_type": "stream",
     "text": [
      "total edge num: 1551\n",
      "train edge num: 1374\n",
      "test edge num: 177\n"
     ]
    }
   ],
   "source": [
    "reduced_adj = nx.adjacency_matrix(reduced_g, nodelist=train_g.nodes())\n",
    "train_adj = nx.adjacency_matrix(train_g, nodelist=train_g.nodes())\n",
    "print('total edge num:', int(np.count_nonzero(reduced_adj.todense())/2))\n",
    "print('train edge num:', int(np.count_nonzero(train_adj.todense())/2))\n",
    "print('test edge num:', len(val_edges))"
   ]
  },
  {
   "cell_type": "markdown",
   "metadata": {},
   "source": [
    "#### Set save file"
   ]
  },
  {
   "cell_type": "code",
   "execution_count": 68,
   "metadata": {},
   "outputs": [],
   "source": [
    "save_file_name = 'topo_edge_score_results_ADD_patent.json'"
   ]
  },
  {
   "cell_type": "code",
   "execution_count": 69,
   "metadata": {},
   "outputs": [],
   "source": [
    "# empty = []\n",
    "# with open('../results/'+save_file_name, 'w') as f:\n",
    "#     json.dump(empty, f)"
   ]
  },
  {
   "cell_type": "code",
   "execution_count": 5,
   "metadata": {},
   "outputs": [
    {
     "name": "stdout",
     "output_type": "stream",
     "text": [
      "177 177\n"
     ]
    }
   ],
   "source": [
    "print(len(val_edges), len(val_non_edges))"
   ]
  },
  {
   "cell_type": "code",
   "execution_count": 70,
   "metadata": {},
   "outputs": [
    {
     "data": {
      "text/plain": [
       "1374"
      ]
     },
     "execution_count": 70,
     "metadata": {},
     "output_type": "execute_result"
    }
   ],
   "source": [
    "G_train = nx.from_scipy_sparse_matrix(train_adj)\n",
    "len(G_train.edges())"
   ]
  },
  {
   "cell_type": "markdown",
   "metadata": {},
   "source": [
    "#### Preferential attachment"
   ]
  },
  {
   "cell_type": "code",
   "execution_count": 105,
   "metadata": {},
   "outputs": [],
   "source": [
    "model_name = 'Preferential attachment'"
   ]
  },
  {
   "cell_type": "code",
   "execution_count": 106,
   "metadata": {},
   "outputs": [],
   "source": [
    "preds = nx.preferential_attachment(G_train, val_edges)\n",
    "preds_false = nx.preferential_attachment(G_train, val_non_edges)"
   ]
  },
  {
   "cell_type": "code",
   "execution_count": 107,
   "metadata": {},
   "outputs": [],
   "source": [
    "for u, v, p in preds:\n",
    "    emb[u][v] = p\n",
    "    emb[v][u] = p\n",
    "for u, v, p in preds_false:\n",
    "    emb[u][v] = p\n",
    "    emb[v][u] = p"
   ]
  },
  {
   "cell_type": "code",
   "execution_count": 108,
   "metadata": {},
   "outputs": [
    {
     "name": "stdout",
     "output_type": "stream",
     "text": [
      "Experiment result - ROC(AUC) score: 78.5183, AP score: 72.0174\n"
     ]
    }
   ],
   "source": [
    "val_roc, val_ap = get_roc_score(val_edges, val_non_edges, emb, apply_sigmoid=True)\n",
    "print('Experiment result - ROC(AUC) score: {}, AP score: {}'.format(np.round(val_roc*100, 4), np.round(val_ap*100, 4)), end='\\n')"
   ]
  },
  {
   "cell_type": "code",
   "execution_count": 109,
   "metadata": {},
   "outputs": [
    {
     "data": {
      "text/html": [
       "<div>\n",
       "<style scoped>\n",
       "    .dataframe tbody tr th:only-of-type {\n",
       "        vertical-align: middle;\n",
       "    }\n",
       "\n",
       "    .dataframe tbody tr th {\n",
       "        vertical-align: top;\n",
       "    }\n",
       "\n",
       "    .dataframe thead th {\n",
       "        text-align: right;\n",
       "    }\n",
       "</style>\n",
       "<table border=\"1\" class=\"dataframe\">\n",
       "  <thead>\n",
       "    <tr style=\"text-align: right;\">\n",
       "      <th></th>\n",
       "      <th>key</th>\n",
       "      <th>value</th>\n",
       "    </tr>\n",
       "  </thead>\n",
       "  <tbody>\n",
       "    <tr>\n",
       "      <th>0</th>\n",
       "      <td>model</td>\n",
       "      <td>Preferential attachment</td>\n",
       "    </tr>\n",
       "    <tr>\n",
       "      <th>1</th>\n",
       "      <td>datetime</td>\n",
       "      <td>2022-03-05 19:35:12</td>\n",
       "    </tr>\n",
       "    <tr>\n",
       "      <th>2</th>\n",
       "      <td>roc</td>\n",
       "      <td>0.785183</td>\n",
       "    </tr>\n",
       "    <tr>\n",
       "      <th>3</th>\n",
       "      <td>ap</td>\n",
       "      <td>0.720174</td>\n",
       "    </tr>\n",
       "  </tbody>\n",
       "</table>\n",
       "</div>"
      ],
      "text/plain": [
       "        key                    value\n",
       "0     model  Preferential attachment\n",
       "1  datetime      2022-03-05 19:35:12\n",
       "2       roc                 0.785183\n",
       "3        ap                 0.720174"
      ]
     },
     "execution_count": 109,
     "metadata": {},
     "output_type": "execute_result"
    }
   ],
   "source": [
    "log_dict= OrderedDict()\n",
    "log_dict['model'] = model_name\n",
    "log_dict['datetime'] = datetime.now().strftime(\"%Y-%m-%d %H:%M:%S\")\n",
    "log_dict['roc'] = val_roc\n",
    "log_dict['ap'] = val_ap\n",
    "pd.DataFrame(log_dict.items(), columns=['key', 'value'])"
   ]
  },
  {
   "cell_type": "code",
   "execution_count": 110,
   "metadata": {},
   "outputs": [
    {
     "name": "stdout",
     "output_type": "stream",
     "text": [
      "Last data saved at: 2022-03-05 19:35:13\n",
      "Total data num: 1\n"
     ]
    }
   ],
   "source": [
    "data = json.load(open('../results/'+save_file_name))\n",
    "data.append(log_dict)\n",
    "with open('../results/'+save_file_name, 'w') as f:\n",
    "    json.dump(data, f)\n",
    "print(\"Last data saved at: {}\".format(datetime.now().strftime(\"%Y-%m-%d %H:%M:%S\")))\n",
    "print(\"Total data num: {}\".format(len(data)))"
   ]
  },
  {
   "cell_type": "markdown",
   "metadata": {},
   "source": [
    "#### Jaccard coefficient"
   ]
  },
  {
   "cell_type": "code",
   "execution_count": 111,
   "metadata": {},
   "outputs": [],
   "source": [
    "model_name = 'Jaccard coefficient'"
   ]
  },
  {
   "cell_type": "code",
   "execution_count": 112,
   "metadata": {},
   "outputs": [],
   "source": [
    "emb = np.zeros(train_adj.shape)"
   ]
  },
  {
   "cell_type": "code",
   "execution_count": 113,
   "metadata": {},
   "outputs": [],
   "source": [
    "preds = nx.jaccard_coefficient(G_train, val_edges)\n",
    "preds_false = nx.jaccard_coefficient(G_train, val_non_edges)"
   ]
  },
  {
   "cell_type": "code",
   "execution_count": 114,
   "metadata": {},
   "outputs": [],
   "source": [
    "for u, v, p in preds:\n",
    "    emb[u][v] = p\n",
    "    emb[v][u] = p\n",
    "for u, v, p in preds_false:\n",
    "    emb[u][v] = p\n",
    "    emb[v][u] = p"
   ]
  },
  {
   "cell_type": "code",
   "execution_count": 115,
   "metadata": {},
   "outputs": [
    {
     "name": "stdout",
     "output_type": "stream",
     "text": [
      "Experiment result - ROC(AUC) score: 82.2385, AP score: 81.1269\n"
     ]
    }
   ],
   "source": [
    "val_roc, val_ap = get_roc_score(val_edges, val_non_edges, emb, apply_sigmoid=True)\n",
    "print('Experiment result - ROC(AUC) score: {}, AP score: {}'.format(np.round(val_roc*100, 4), np.round(val_ap*100, 4)), end='\\n')"
   ]
  },
  {
   "cell_type": "code",
   "execution_count": 116,
   "metadata": {},
   "outputs": [
    {
     "data": {
      "text/html": [
       "<div>\n",
       "<style scoped>\n",
       "    .dataframe tbody tr th:only-of-type {\n",
       "        vertical-align: middle;\n",
       "    }\n",
       "\n",
       "    .dataframe tbody tr th {\n",
       "        vertical-align: top;\n",
       "    }\n",
       "\n",
       "    .dataframe thead th {\n",
       "        text-align: right;\n",
       "    }\n",
       "</style>\n",
       "<table border=\"1\" class=\"dataframe\">\n",
       "  <thead>\n",
       "    <tr style=\"text-align: right;\">\n",
       "      <th></th>\n",
       "      <th>key</th>\n",
       "      <th>value</th>\n",
       "    </tr>\n",
       "  </thead>\n",
       "  <tbody>\n",
       "    <tr>\n",
       "      <th>0</th>\n",
       "      <td>model</td>\n",
       "      <td>Jaccard coefficient</td>\n",
       "    </tr>\n",
       "    <tr>\n",
       "      <th>1</th>\n",
       "      <td>datetime</td>\n",
       "      <td>2022-03-05 19:35:15</td>\n",
       "    </tr>\n",
       "    <tr>\n",
       "      <th>2</th>\n",
       "      <td>roc</td>\n",
       "      <td>0.822385</td>\n",
       "    </tr>\n",
       "    <tr>\n",
       "      <th>3</th>\n",
       "      <td>ap</td>\n",
       "      <td>0.811269</td>\n",
       "    </tr>\n",
       "  </tbody>\n",
       "</table>\n",
       "</div>"
      ],
      "text/plain": [
       "        key                value\n",
       "0     model  Jaccard coefficient\n",
       "1  datetime  2022-03-05 19:35:15\n",
       "2       roc             0.822385\n",
       "3        ap             0.811269"
      ]
     },
     "execution_count": 116,
     "metadata": {},
     "output_type": "execute_result"
    }
   ],
   "source": [
    "log_dict= OrderedDict()\n",
    "log_dict['model'] = model_name\n",
    "log_dict['datetime'] = datetime.now().strftime(\"%Y-%m-%d %H:%M:%S\")\n",
    "log_dict['roc'] = val_roc\n",
    "log_dict['ap'] = val_ap\n",
    "pd.DataFrame(log_dict.items(), columns=['key', 'value'])"
   ]
  },
  {
   "cell_type": "code",
   "execution_count": 117,
   "metadata": {},
   "outputs": [
    {
     "name": "stdout",
     "output_type": "stream",
     "text": [
      "Last data saved at: 2022-03-05 19:35:17\n",
      "Total data num: 2\n"
     ]
    }
   ],
   "source": [
    "data = json.load(open('../results/'+save_file_name))\n",
    "data.append(log_dict)\n",
    "with open('../results/'+save_file_name, 'w') as f:\n",
    "    json.dump(data, f)\n",
    "print(\"Last data saved at: {}\".format(datetime.now().strftime(\"%Y-%m-%d %H:%M:%S\")))\n",
    "print(\"Total data num: {}\".format(len(data)))"
   ]
  },
  {
   "cell_type": "markdown",
   "metadata": {},
   "source": [
    "#### Adamic adar index"
   ]
  },
  {
   "cell_type": "code",
   "execution_count": 118,
   "metadata": {},
   "outputs": [],
   "source": [
    "model_name = 'Adamic_adar_index'"
   ]
  },
  {
   "cell_type": "code",
   "execution_count": 119,
   "metadata": {},
   "outputs": [],
   "source": [
    "emb = np.zeros(train_adj.shape)"
   ]
  },
  {
   "cell_type": "code",
   "execution_count": 120,
   "metadata": {},
   "outputs": [],
   "source": [
    "preds = nx.adamic_adar_index(G_train, val_edges)\n",
    "preds_false = nx.adamic_adar_index(G_train, val_non_edges)"
   ]
  },
  {
   "cell_type": "code",
   "execution_count": 121,
   "metadata": {},
   "outputs": [],
   "source": [
    "for u, v, p in preds:\n",
    "    emb[u][v] = p\n",
    "    emb[v][u] = p\n",
    "for u, v, p in preds_false:\n",
    "    emb[u][v] = p\n",
    "    emb[v][u] = p"
   ]
  },
  {
   "cell_type": "code",
   "execution_count": 122,
   "metadata": {},
   "outputs": [
    {
     "name": "stdout",
     "output_type": "stream",
     "text": [
      "Experiment result - ROC(AUC) score: 85.0474, AP score: 85.5214\n"
     ]
    }
   ],
   "source": [
    "val_roc, val_ap = get_roc_score(val_edges, val_non_edges, emb, apply_sigmoid=True)\n",
    "print('Experiment result - ROC(AUC) score: {}, AP score: {}'.format(np.round(val_roc*100, 4), np.round(val_ap*100, 4)), end='\\n')"
   ]
  },
  {
   "cell_type": "code",
   "execution_count": 123,
   "metadata": {},
   "outputs": [
    {
     "data": {
      "text/html": [
       "<div>\n",
       "<style scoped>\n",
       "    .dataframe tbody tr th:only-of-type {\n",
       "        vertical-align: middle;\n",
       "    }\n",
       "\n",
       "    .dataframe tbody tr th {\n",
       "        vertical-align: top;\n",
       "    }\n",
       "\n",
       "    .dataframe thead th {\n",
       "        text-align: right;\n",
       "    }\n",
       "</style>\n",
       "<table border=\"1\" class=\"dataframe\">\n",
       "  <thead>\n",
       "    <tr style=\"text-align: right;\">\n",
       "      <th></th>\n",
       "      <th>key</th>\n",
       "      <th>value</th>\n",
       "    </tr>\n",
       "  </thead>\n",
       "  <tbody>\n",
       "    <tr>\n",
       "      <th>0</th>\n",
       "      <td>model</td>\n",
       "      <td>Adamic_adar_index</td>\n",
       "    </tr>\n",
       "    <tr>\n",
       "      <th>1</th>\n",
       "      <td>datetime</td>\n",
       "      <td>2022-03-05 19:35:20</td>\n",
       "    </tr>\n",
       "    <tr>\n",
       "      <th>2</th>\n",
       "      <td>roc</td>\n",
       "      <td>0.850474</td>\n",
       "    </tr>\n",
       "    <tr>\n",
       "      <th>3</th>\n",
       "      <td>ap</td>\n",
       "      <td>0.855214</td>\n",
       "    </tr>\n",
       "  </tbody>\n",
       "</table>\n",
       "</div>"
      ],
      "text/plain": [
       "        key                value\n",
       "0     model    Adamic_adar_index\n",
       "1  datetime  2022-03-05 19:35:20\n",
       "2       roc             0.850474\n",
       "3        ap             0.855214"
      ]
     },
     "execution_count": 123,
     "metadata": {},
     "output_type": "execute_result"
    }
   ],
   "source": [
    "log_dict= OrderedDict()\n",
    "log_dict['model'] = model_name\n",
    "log_dict['datetime'] = datetime.now().strftime(\"%Y-%m-%d %H:%M:%S\")\n",
    "log_dict['roc'] = val_roc\n",
    "log_dict['ap'] = val_ap\n",
    "pd.DataFrame(log_dict.items(), columns=['key', 'value'])"
   ]
  },
  {
   "cell_type": "code",
   "execution_count": 124,
   "metadata": {},
   "outputs": [
    {
     "name": "stdout",
     "output_type": "stream",
     "text": [
      "Last data saved at: 2022-03-05 19:35:21\n",
      "Total data num: 3\n"
     ]
    }
   ],
   "source": [
    "data = json.load(open('../results/'+save_file_name))\n",
    "data.append(log_dict)\n",
    "with open('../results/'+save_file_name, 'w') as f:\n",
    "    json.dump(data, f)\n",
    "print(\"Last data saved at: {}\".format(datetime.now().strftime(\"%Y-%m-%d %H:%M:%S\")))\n",
    "print(\"Total data num: {}\".format(len(data)))"
   ]
  },
  {
   "cell_type": "markdown",
   "metadata": {},
   "source": [
    "#### Resource allocation index"
   ]
  },
  {
   "cell_type": "code",
   "execution_count": 125,
   "metadata": {},
   "outputs": [],
   "source": [
    "model_name = 'Resource_allocation_index'"
   ]
  },
  {
   "cell_type": "code",
   "execution_count": 126,
   "metadata": {},
   "outputs": [],
   "source": [
    "emb = np.zeros(train_adj.shape)"
   ]
  },
  {
   "cell_type": "code",
   "execution_count": 127,
   "metadata": {},
   "outputs": [],
   "source": [
    "preds = nx.resource_allocation_index(G_train, val_edges)\n",
    "preds_false = nx.resource_allocation_index(G_train, val_non_edges)"
   ]
  },
  {
   "cell_type": "code",
   "execution_count": 128,
   "metadata": {},
   "outputs": [],
   "source": [
    "for u, v, p in preds:\n",
    "    emb[u][v] = p\n",
    "    emb[v][u] = p\n",
    "for u, v, p in preds_false:\n",
    "    emb[u][v] = p\n",
    "    emb[v][u] = p"
   ]
  },
  {
   "cell_type": "code",
   "execution_count": 129,
   "metadata": {},
   "outputs": [
    {
     "name": "stdout",
     "output_type": "stream",
     "text": [
      "Experiment result - ROC(AUC) score: 85.2868, AP score: 86.1158\n"
     ]
    }
   ],
   "source": [
    "val_roc, val_ap = get_roc_score(val_edges, val_non_edges, emb, apply_sigmoid=True)\n",
    "print('Experiment result - ROC(AUC) score: {}, AP score: {}'.format(np.round(val_roc*100, 4), np.round(val_ap*100, 4)), end='\\n')"
   ]
  },
  {
   "cell_type": "code",
   "execution_count": 130,
   "metadata": {},
   "outputs": [
    {
     "data": {
      "text/html": [
       "<div>\n",
       "<style scoped>\n",
       "    .dataframe tbody tr th:only-of-type {\n",
       "        vertical-align: middle;\n",
       "    }\n",
       "\n",
       "    .dataframe tbody tr th {\n",
       "        vertical-align: top;\n",
       "    }\n",
       "\n",
       "    .dataframe thead th {\n",
       "        text-align: right;\n",
       "    }\n",
       "</style>\n",
       "<table border=\"1\" class=\"dataframe\">\n",
       "  <thead>\n",
       "    <tr style=\"text-align: right;\">\n",
       "      <th></th>\n",
       "      <th>key</th>\n",
       "      <th>value</th>\n",
       "    </tr>\n",
       "  </thead>\n",
       "  <tbody>\n",
       "    <tr>\n",
       "      <th>0</th>\n",
       "      <td>model</td>\n",
       "      <td>Resource_allocation_index</td>\n",
       "    </tr>\n",
       "    <tr>\n",
       "      <th>1</th>\n",
       "      <td>datetime</td>\n",
       "      <td>2022-03-05 19:35:24</td>\n",
       "    </tr>\n",
       "    <tr>\n",
       "      <th>2</th>\n",
       "      <td>roc</td>\n",
       "      <td>0.852868</td>\n",
       "    </tr>\n",
       "    <tr>\n",
       "      <th>3</th>\n",
       "      <td>ap</td>\n",
       "      <td>0.861158</td>\n",
       "    </tr>\n",
       "  </tbody>\n",
       "</table>\n",
       "</div>"
      ],
      "text/plain": [
       "        key                      value\n",
       "0     model  Resource_allocation_index\n",
       "1  datetime        2022-03-05 19:35:24\n",
       "2       roc                   0.852868\n",
       "3        ap                   0.861158"
      ]
     },
     "execution_count": 130,
     "metadata": {},
     "output_type": "execute_result"
    }
   ],
   "source": [
    "log_dict= OrderedDict()\n",
    "log_dict['model'] = model_name\n",
    "log_dict['datetime'] = datetime.now().strftime(\"%Y-%m-%d %H:%M:%S\")\n",
    "log_dict['roc'] = val_roc\n",
    "log_dict['ap'] = val_ap\n",
    "pd.DataFrame(log_dict.items(), columns=['key', 'value'])"
   ]
  },
  {
   "cell_type": "code",
   "execution_count": 131,
   "metadata": {},
   "outputs": [
    {
     "name": "stdout",
     "output_type": "stream",
     "text": [
      "Last data saved at: 2022-03-05 19:35:24\n",
      "Total data num: 4\n"
     ]
    }
   ],
   "source": [
    "data = json.load(open('../results/' + save_file_name))\n",
    "data.append(log_dict)\n",
    "with open('../results/' + save_file_name, 'w') as f:\n",
    "    json.dump(data, f)\n",
    "print(\"Last data saved at: {}\".format(datetime.now().strftime(\"%Y-%m-%d %H:%M:%S\")))\n",
    "print(\"Total data num: {}\".format(len(data)))"
   ]
  },
  {
   "cell_type": "code",
   "execution_count": null,
   "metadata": {},
   "outputs": [],
   "source": []
  }
 ],
 "metadata": {
  "kernelspec": {
   "display_name": "Python 3",
   "language": "python",
   "name": "python3"
  },
  "language_info": {
   "codemirror_mode": {
    "name": "ipython",
    "version": 3
   },
   "file_extension": ".py",
   "mimetype": "text/x-python",
   "name": "python",
   "nbconvert_exporter": "python",
   "pygments_lexer": "ipython3",
   "version": "3.8.3"
  }
 },
 "nbformat": 4,
 "nbformat_minor": 5
}
