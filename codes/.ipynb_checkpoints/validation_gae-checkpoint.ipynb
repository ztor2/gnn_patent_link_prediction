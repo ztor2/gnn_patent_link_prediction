{
 "cells": [
  {
   "cell_type": "code",
   "execution_count": 1,
   "metadata": {},
   "outputs": [],
   "source": [
    "import numpy as np\n",
    "import pandas as pd\n",
    "import pickle as pkl\n",
    "import json\n",
    "import scipy.sparse as sp\n",
    "\n",
    "import networkx as nx\n",
    "from networkx.readwrite import json_graph\n",
    "\n",
    "from gae.model import *\n",
    "from gae.optimizer import *\n",
    "from gae.utils import *\n",
    "\n",
    "import torch\n",
    "from torch import optim\n",
    "import torch.nn.functional as F\n",
    "\n",
    "from datetime import datetime\n",
    "import random\n",
    "from collections import OrderedDict\n",
    "import warnings; warnings.filterwarnings('ignore')"
   ]
  },
  {
   "cell_type": "code",
   "execution_count": 2,
   "metadata": {},
   "outputs": [],
   "source": [
    "device = torch.device('cpu')"
   ]
  },
  {
   "cell_type": "code",
   "execution_count": 6,
   "metadata": {},
   "outputs": [
    {
     "data": {
      "text/html": [
       "<div>\n",
       "<style scoped>\n",
       "    .dataframe tbody tr th:only-of-type {\n",
       "        vertical-align: middle;\n",
       "    }\n",
       "\n",
       "    .dataframe tbody tr th {\n",
       "        vertical-align: top;\n",
       "    }\n",
       "\n",
       "    .dataframe thead th {\n",
       "        text-align: right;\n",
       "    }\n",
       "</style>\n",
       "<table border=\"1\" class=\"dataframe\">\n",
       "  <thead>\n",
       "    <tr style=\"text-align: right;\">\n",
       "      <th></th>\n",
       "      <th>nodes</th>\n",
       "      <th>edges</th>\n",
       "    </tr>\n",
       "  </thead>\n",
       "  <tbody>\n",
       "    <tr>\n",
       "      <th>Reduced graph</th>\n",
       "      <td>322</td>\n",
       "      <td>1551</td>\n",
       "    </tr>\n",
       "    <tr>\n",
       "      <th>Reduced graph - train(1979-2020)</th>\n",
       "      <td>322</td>\n",
       "      <td>1374</td>\n",
       "    </tr>\n",
       "    <tr>\n",
       "      <th>Reduced graph - val(2019-2020)</th>\n",
       "      <td>322</td>\n",
       "      <td>177</td>\n",
       "    </tr>\n",
       "  </tbody>\n",
       "</table>\n",
       "</div>"
      ],
      "text/plain": [
       "                                  nodes  edges\n",
       "Reduced graph                       322   1551\n",
       "Reduced graph - train(1979-2020)    322   1374\n",
       "Reduced graph - val(2019-2020)      322    177"
      ]
     },
     "execution_count": 6,
     "metadata": {},
     "output_type": "execute_result"
    }
   ],
   "source": [
    "graphs = ['reduced', 'reduced_train', 'reduced_val']\n",
    "obj = []\n",
    "for graph in graphs:\n",
    "    with open('../data/'+graph +'.graph', 'r') as f:\n",
    "        data = json.load(f)\n",
    "    obj.append(data)\n",
    "reduced_g = json_graph.node_link_graph(obj[0])\n",
    "train_g = json_graph.node_link_graph(obj[1])\n",
    "val_g = json_graph.node_link_graph(obj[2])\n",
    "pd.DataFrame([[len(reduced_g.nodes()),len(reduced_g.edges())],[len(train_g.nodes()),len(train_g.edges())],[len(val_g.nodes()),len(val_g.edges())]],\n",
    "             index=['Reduced graph', 'Reduced graph - train(1979-2020)', 'Reduced graph - val(2019-2020)'], columns=['nodes', 'edges'])"
   ]
  },
  {
   "cell_type": "code",
   "execution_count": 7,
   "metadata": {},
   "outputs": [],
   "source": [
    "val_set = ['val_edges_name', 'val_non_edges_name', 'val_edges', 'val_non_edges']\n",
    "vals = []\n",
    "for val in val_set:\n",
    "    with open('../data/'+ val +'.pkl', 'rb') as f:\n",
    "        data = pkl.load(f)\n",
    "    vals.append(data)\n",
    "# val_edges_name = vals[0] # not used\n",
    "# val_non_edges_name = vals[1] # not used\n",
    "val_edges = vals[2]\n",
    "val_non_edges = vals[3]"
   ]
  },
  {
   "cell_type": "code",
   "execution_count": 8,
   "metadata": {},
   "outputs": [
    {
     "name": "stdout",
     "output_type": "stream",
     "text": [
      "total edge num: 1551\n",
      "train edge num: 1374\n",
      "test edge num: 177\n"
     ]
    }
   ],
   "source": [
    "reduced_adj = nx.adjacency_matrix(reduced_g, nodelist=train_g.nodes())\n",
    "train_adj = nx.adjacency_matrix(train_g, nodelist=train_g.nodes())\n",
    "print('total edge num:', int(np.count_nonzero(reduced_adj.todense())/2))\n",
    "print('train edge num:', int(np.count_nonzero(train_adj.todense())/2))\n",
    "print('test edge num:', len(val_edges))"
   ]
  },
  {
   "cell_type": "markdown",
   "metadata": {},
   "source": [
    "### Model"
   ]
  },
  {
   "cell_type": "code",
   "execution_count": 9,
   "metadata": {},
   "outputs": [],
   "source": [
    "model_name = 'GAE'"
   ]
  },
  {
   "cell_type": "code",
   "execution_count": 10,
   "metadata": {},
   "outputs": [],
   "source": [
    "train_adj_norm = preprocess_graph(train_adj)\n",
    "pos_weight = torch.Tensor([float(train_adj.shape[0] * train_adj.shape[0] - train_adj.sum()) / train_adj.sum()])\n",
    "norm = train_adj.shape[0] * train_adj.shape[0] / float((train_adj.shape[0] * train_adj.shape[0] - train_adj.sum()) * 2)"
   ]
  },
  {
   "cell_type": "code",
   "execution_count": 11,
   "metadata": {},
   "outputs": [],
   "source": [
    "adj_label = train_adj + sp.eye(train_adj.shape[0])\n",
    "adj_label = torch.FloatTensor(adj_label.toarray())\n",
    "features = sp.identity(train_adj.shape[0])\n",
    "features = torch.FloatTensor(np.array(features.todense()))\n",
    "n_nodes, feat_dim = features.shape\n",
    "train_adj_norm, features, adj_label, pos_weight = train_adj_norm.to(device), features.to(device), adj_label.to(device), pos_weight.to(device)"
   ]
  },
  {
   "cell_type": "code",
   "execution_count": 41,
   "metadata": {},
   "outputs": [],
   "source": [
    "hidden1 = 16\n",
    "hidden2 = 8\n",
    "lr = 0.00025\n",
    "dropout = 0.\n",
    "epochs = 200\n",
    "n_iter = 10"
   ]
  },
  {
   "cell_type": "code",
   "execution_count": 44,
   "metadata": {},
   "outputs": [
    {
     "name": "stdout",
     "output_type": "stream",
     "text": [
      "Expriments 1 result: Test_ROC: 86.6992, Test_AP: 87.0716\n",
      "Expriments 2 result: Test_ROC: 85.3458, Test_AP: 85.9094\n",
      "Expriments 3 result: Test_ROC: 85.4608, Test_AP: 86.3193\n",
      "Expriments 4 result: Test_ROC: 85.6363, Test_AP: 86.6433\n",
      "Expriments 5 result: Test_ROC: 84.5926, Test_AP: 86.0610\n",
      "Expriments 6 result: Test_ROC: 85.9140, Test_AP: 86.5969\n",
      "Expriments 7 result: Test_ROC: 85.7193, Test_AP: 86.5742\n",
      "Expriments 8 result: Test_ROC: 85.4416, Test_AP: 86.3951\n",
      "Expriments 9 result: Test_ROC: 84.2734, Test_AP: 85.7434\n",
      "Expriments 10 result: Test_ROC: 84.8639, Test_AP: 86.1968\n",
      "\n",
      "Average ROC: 85.39 ± 0.66 Average AP: 86.35 ± 0.37\n"
     ]
    }
   ],
   "source": [
    "roc_results = []\n",
    "ap_results = []\n",
    "for i in range(n_iter):\n",
    "    if model_name == 'GAE':\n",
    "        model = GCN_AE(feat_dim, hidden1, hidden2, dropout)\n",
    "    elif model_name == 'VGAE':\n",
    "        model = GCN_VAE(feat_dim, hidden1, hidden2, dropout)\n",
    "    model= model.to(device)\n",
    "    optimizer = optim.Adam(model.parameters(), lr=lr)\n",
    "    hidden_emb = None\n",
    "    for epoch in range(epochs):\n",
    "        model.train()\n",
    "        optimizer.zero_grad()\n",
    "    \n",
    "        if model_name == 'GAE':\n",
    "            recovered = model(features, train_adj_norm)\n",
    "            loss = loss_function_gae(preds=recovered, labels=adj_label, norm=norm, pos_weight=pos_weight)\n",
    "        elif model_name == 'VGAE':\n",
    "            recovered, mu, logvar = model(features, train_adj_norm)\n",
    "            loss = loss_function_vgae(preds=recovered, labels=adj_label, mu=mu, logvar=logvar, n_nodes=n_nodes, norm=norm, pos_weight=pos_weight)\n",
    "\n",
    "        loss.backward()\n",
    "        cur_loss = loss.item()\n",
    "        optimizer.step()\n",
    "        hidden_emb = recovered.data.cpu().numpy()\n",
    "        \n",
    "    roc_score, ap_score, recon_adj = roc_ap_score(hidden_emb, reduced_adj, val_edges, val_non_edges)\n",
    "    print('Expriments {} result: Test_ROC: {:.4f}, Test_AP: {:.4f}'.format(i+1, roc_score*100, ap_score*100), end='\\n')\n",
    "    roc_results.append(roc_score)\n",
    "    ap_results.append(ap_score)\n",
    "print('\\nAverage ROC: {} ± {} Average AP: {} ± {}'.format(np.round(np.mean(roc_results)*100, 2), np.round(np.std(roc_results)*100, 2), np.round(np.mean(ap_results)*100, 2), np.round(np.std(ap_results)*100, 2) ))"
   ]
  },
  {
   "cell_type": "code",
   "execution_count": 43,
   "metadata": {},
   "outputs": [
    {
     "name": "stdout",
     "output_type": "stream",
     "text": [
      "10 10\n"
     ]
    }
   ],
   "source": [
    "print(len(roc_results), len(ap_results))"
   ]
  },
  {
   "cell_type": "code",
   "execution_count": 15,
   "metadata": {},
   "outputs": [],
   "source": [
    "log_dict= OrderedDict()\n",
    "log_dict['model'] = model_name\n",
    "log_dict['datetime'] = datetime.now().strftime(\"%Y-%m-%d %H:%M:%S\")\n",
    "log_dict['settings'] = {'epochs':epochs, 'hidden1':hidden1, 'hidden2':hidden2, 'lr':lr, 'dropout': dropout, 'niter':10}\n",
    "log_dict['roc_all'] = roc_results\n",
    "log_dict['roc_mean'] = np.mean(roc_results)\n",
    "log_dict['roc_std'] = np.std(roc_results)\n",
    "log_dict['ap_all'] = ap_results\n",
    "log_dict['ap_mean'] = np.mean(ap_results)\n",
    "log_dict['ap_std'] = np.std(ap_results)"
   ]
  },
  {
   "cell_type": "code",
   "execution_count": 16,
   "metadata": {},
   "outputs": [
    {
     "data": {
      "text/html": [
       "<div>\n",
       "<style scoped>\n",
       "    .dataframe tbody tr th:only-of-type {\n",
       "        vertical-align: middle;\n",
       "    }\n",
       "\n",
       "    .dataframe tbody tr th {\n",
       "        vertical-align: top;\n",
       "    }\n",
       "\n",
       "    .dataframe thead th {\n",
       "        text-align: right;\n",
       "    }\n",
       "</style>\n",
       "<table border=\"1\" class=\"dataframe\">\n",
       "  <thead>\n",
       "    <tr style=\"text-align: right;\">\n",
       "      <th></th>\n",
       "      <th>key</th>\n",
       "      <th>value</th>\n",
       "    </tr>\n",
       "  </thead>\n",
       "  <tbody>\n",
       "    <tr>\n",
       "      <th>0</th>\n",
       "      <td>model</td>\n",
       "      <td>GAE</td>\n",
       "    </tr>\n",
       "    <tr>\n",
       "      <th>1</th>\n",
       "      <td>datetime</td>\n",
       "      <td>2022-03-05 17:42:45</td>\n",
       "    </tr>\n",
       "    <tr>\n",
       "      <th>2</th>\n",
       "      <td>settings</td>\n",
       "      <td>{'epochs': 200, 'hidden1': 16, 'hidden2': 8, '...</td>\n",
       "    </tr>\n",
       "    <tr>\n",
       "      <th>3</th>\n",
       "      <td>roc_all</td>\n",
       "      <td>[0.8559481630438251, 0.8637524338472342, 0.851...</td>\n",
       "    </tr>\n",
       "    <tr>\n",
       "      <th>4</th>\n",
       "      <td>roc_mean</td>\n",
       "      <td>0.856839</td>\n",
       "    </tr>\n",
       "    <tr>\n",
       "      <th>5</th>\n",
       "      <td>roc_std</td>\n",
       "      <td>0.00584736</td>\n",
       "    </tr>\n",
       "    <tr>\n",
       "      <th>6</th>\n",
       "      <td>ap_all</td>\n",
       "      <td>[0.8654513689146641, 0.8667838084525464, 0.857...</td>\n",
       "    </tr>\n",
       "    <tr>\n",
       "      <th>7</th>\n",
       "      <td>ap_mean</td>\n",
       "      <td>0.863402</td>\n",
       "    </tr>\n",
       "    <tr>\n",
       "      <th>8</th>\n",
       "      <td>ap_std</td>\n",
       "      <td>0.00451909</td>\n",
       "    </tr>\n",
       "  </tbody>\n",
       "</table>\n",
       "</div>"
      ],
      "text/plain": [
       "        key                                              value\n",
       "0     model                                                GAE\n",
       "1  datetime                                2022-03-05 17:42:45\n",
       "2  settings  {'epochs': 200, 'hidden1': 16, 'hidden2': 8, '...\n",
       "3   roc_all  [0.8559481630438251, 0.8637524338472342, 0.851...\n",
       "4  roc_mean                                           0.856839\n",
       "5   roc_std                                         0.00584736\n",
       "6    ap_all  [0.8654513689146641, 0.8667838084525464, 0.857...\n",
       "7   ap_mean                                           0.863402\n",
       "8    ap_std                                         0.00451909"
      ]
     },
     "execution_count": 16,
     "metadata": {},
     "output_type": "execute_result"
    }
   ],
   "source": [
    "pd.DataFrame(log_dict.items(), columns=['key', 'value'])"
   ]
  },
  {
   "cell_type": "code",
   "execution_count": 35,
   "metadata": {},
   "outputs": [],
   "source": [
    "save_file_name = 'GAE_results_ADD_patent.json'"
   ]
  },
  {
   "cell_type": "code",
   "execution_count": 37,
   "metadata": {},
   "outputs": [
    {
     "name": "stdout",
     "output_type": "stream",
     "text": [
      "Last data saved at: 2022-03-05 18:00:18\n",
      "Total data num: 1\n"
     ]
    }
   ],
   "source": [
    "data = json.load(open('../results/'+save_file_name))\n",
    "data.append(log_dict)\n",
    "with open('../results/'+save_file_name, 'w') as f:\n",
    "    json.dump(data, f)\n",
    "print(\"Last data saved at: {}\".format(datetime.now().strftime(\"%Y-%m-%d %H:%M:%S\")))\n",
    "print(\"Total data num: {}\".format(len(data)))"
   ]
  },
  {
   "cell_type": "code",
   "execution_count": 36,
   "metadata": {},
   "outputs": [],
   "source": [
    "empty = []\n",
    "with open('../results/'+save_file_name, 'w') as f:\n",
    "    json.dump(empty, f)"
   ]
  },
  {
   "cell_type": "code",
   "execution_count": null,
   "metadata": {},
   "outputs": [],
   "source": []
  }
 ],
 "metadata": {
  "kernelspec": {
   "display_name": "Python 3",
   "language": "python",
   "name": "python3"
  },
  "language_info": {
   "codemirror_mode": {
    "name": "ipython",
    "version": 3
   },
   "file_extension": ".py",
   "mimetype": "text/x-python",
   "name": "python",
   "nbconvert_exporter": "python",
   "pygments_lexer": "ipython3",
   "version": "3.8.3"
  }
 },
 "nbformat": 4,
 "nbformat_minor": 5
}
