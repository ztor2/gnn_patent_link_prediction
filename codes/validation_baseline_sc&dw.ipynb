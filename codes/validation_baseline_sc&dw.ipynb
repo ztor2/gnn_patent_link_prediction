{
 "cells": [
  {
   "cell_type": "code",
   "execution_count": 16,
   "metadata": {},
   "outputs": [],
   "source": [
    "import numpy as np\n",
    "import pandas as pd\n",
    "import pickle as pkl\n",
    "import json\n",
    "import scipy.sparse as sp\n",
    "\n",
    "import networkx as nx\n",
    "from networkx.readwrite import json_graph\n",
    "\n",
    "from sc_dw.utils import *\n",
    "from sklearn.manifold import spectral_embedding\n",
    "from node2vec import Node2Vec\n",
    "\n",
    "from datetime import datetime, timedelta\n",
    "import time\n",
    "import random\n",
    "from collections import OrderedDict\n",
    "import warnings; warnings.filterwarnings('ignore')"
   ]
  },
  {
   "cell_type": "code",
   "execution_count": 17,
   "metadata": {
    "jupyter": {
     "source_hidden": true
    }
   },
   "outputs": [
    {
     "data": {
      "text/html": [
       "<div>\n",
       "<style scoped>\n",
       "    .dataframe tbody tr th:only-of-type {\n",
       "        vertical-align: middle;\n",
       "    }\n",
       "\n",
       "    .dataframe tbody tr th {\n",
       "        vertical-align: top;\n",
       "    }\n",
       "\n",
       "    .dataframe thead th {\n",
       "        text-align: right;\n",
       "    }\n",
       "</style>\n",
       "<table border=\"1\" class=\"dataframe\">\n",
       "  <thead>\n",
       "    <tr style=\"text-align: right;\">\n",
       "      <th></th>\n",
       "      <th>nodes</th>\n",
       "      <th>edges</th>\n",
       "    </tr>\n",
       "  </thead>\n",
       "  <tbody>\n",
       "    <tr>\n",
       "      <th>Reduced graph</th>\n",
       "      <td>322</td>\n",
       "      <td>1551</td>\n",
       "    </tr>\n",
       "    <tr>\n",
       "      <th>Reduced graph - train(1979-2020)</th>\n",
       "      <td>322</td>\n",
       "      <td>1374</td>\n",
       "    </tr>\n",
       "    <tr>\n",
       "      <th>Reduced graph - val(2019-2020)</th>\n",
       "      <td>322</td>\n",
       "      <td>177</td>\n",
       "    </tr>\n",
       "  </tbody>\n",
       "</table>\n",
       "</div>"
      ],
      "text/plain": [
       "                                  nodes  edges\n",
       "Reduced graph                       322   1551\n",
       "Reduced graph - train(1979-2020)    322   1374\n",
       "Reduced graph - val(2019-2020)      322    177"
      ]
     },
     "execution_count": 17,
     "metadata": {},
     "output_type": "execute_result"
    }
   ],
   "source": [
    "graphs = ['reduced', 'reduced_train', 'reduced_val']\n",
    "obj = []\n",
    "for graph in graphs:\n",
    "    with open('../data/'+graph +'.graph', 'r') as f:\n",
    "        data = json.load(f)\n",
    "    obj.append(data)\n",
    "reduced_g = json_graph.node_link_graph(obj[0])\n",
    "train_g = json_graph.node_link_graph(obj[1])\n",
    "val_g = json_graph.node_link_graph(obj[2])\n",
    "pd.DataFrame([[len(reduced_g.nodes()),len(reduced_g.edges())],[len(train_g.nodes()),len(train_g.edges())],[len(val_g.nodes()),len(val_g.edges())]],\n",
    "             index=['Reduced graph', 'Reduced graph - train(1979-2020)', 'Reduced graph - val(2019-2020)'], columns=['nodes', 'edges'])"
   ]
  },
  {
   "cell_type": "code",
   "execution_count": 18,
   "metadata": {},
   "outputs": [],
   "source": [
    "val_set = ['val_edges_name', 'val_non_edges_name', 'val_edges', 'val_non_edges']\n",
    "vals = []\n",
    "for val in val_set:\n",
    "    with open('../data/'+ val +'.pkl', 'rb') as f:\n",
    "        data = pkl.load(f)\n",
    "    vals.append(data)\n",
    "val_edges_name = vals[0]\n",
    "val_non_edges_name = vals[1]\n",
    "val_edges = vals[2]\n",
    "val_non_edges = vals[3]"
   ]
  },
  {
   "cell_type": "code",
   "execution_count": 19,
   "metadata": {},
   "outputs": [
    {
     "name": "stdout",
     "output_type": "stream",
     "text": [
      "total edge num: 1551\n",
      "train edge num: 1374\n",
      "test edge num: 177\n"
     ]
    }
   ],
   "source": [
    "reduced_adj = nx.adjacency_matrix(reduced_g, nodelist=train_g.nodes())\n",
    "train_adj = nx.adjacency_matrix(train_g, nodelist=train_g.nodes())\n",
    "print('total edge num:', int(np.count_nonzero(reduced_adj.todense())/2))\n",
    "print('train edge num:', int(np.count_nonzero(train_adj.todense())/2))\n",
    "print('test edge num:', len(val_edges))"
   ]
  },
  {
   "cell_type": "markdown",
   "metadata": {},
   "source": [
    "### Model"
   ]
  },
  {
   "cell_type": "code",
   "execution_count": 20,
   "metadata": {},
   "outputs": [],
   "source": [
    "n_iter = 10\n",
    "dim = 16"
   ]
  },
  {
   "cell_type": "code",
   "execution_count": 21,
   "metadata": {},
   "outputs": [
    {
     "name": "stdout",
     "output_type": "stream",
     "text": [
      "Experiment 1 result - ROC(AUC) score: 0.7128, AP score: 0.6643\n",
      "Experiment 2 result - ROC(AUC) score: 0.7267, AP score: 0.6842\n",
      "Experiment 3 result - ROC(AUC) score: 0.7196, AP score: 0.6713\n",
      "Experiment 4 result - ROC(AUC) score: 0.7286, AP score: 0.6849\n",
      "Experiment 5 result - ROC(AUC) score: 0.7148, AP score: 0.673\n",
      "Experiment 6 result - ROC(AUC) score: 0.7286, AP score: 0.6849\n",
      "Experiment 7 result - ROC(AUC) score: 0.7195, AP score: 0.677\n",
      "Experiment 8 result - ROC(AUC) score: 0.7155, AP score: 0.6721\n",
      "Experiment 9 result - ROC(AUC) score: 0.7221, AP score: 0.68\n",
      "Experiment 10 result - ROC(AUC) score: 0.7143, AP score: 0.664\n"
     ]
    }
   ],
   "source": [
    "sc_roc_results = []\n",
    "sc_ap_results = []\n",
    "for i in range(n_iter):\n",
    "    \n",
    "    random_state = random.sample(range(0, 50), 1)[0]\n",
    "    spectral_emb = spectral_embedding(train_adj, n_components=dim, random_state=random_state)\n",
    "    sc_score_matrix = np.dot(spectral_emb, spectral_emb.T)\n",
    "    sc_val_roc, sc_val_ap = get_roc_score(val_edges, val_non_edges, sc_score_matrix, apply_sigmoid=True)\n",
    "    \n",
    "    sc_roc_results.append(sc_val_roc)\n",
    "    sc_ap_results.append(sc_val_ap)\n",
    "    \n",
    "    print('Experiment {} result - ROC(AUC) score: {}, AP score: {}'.format(i+1, np.round(sc_val_roc, 4), np.round(sc_val_ap, 4)), end='\\n')"
   ]
  },
  {
   "cell_type": "code",
   "execution_count": 22,
   "metadata": {},
   "outputs": [
    {
     "name": "stdout",
     "output_type": "stream",
     "text": [
      "SC_AUC mean: 72.03 ± 0.58\n",
      "SC_AP mean: 67.56 ± 0.75\n"
     ]
    }
   ],
   "source": [
    "print('SC_AUC mean:', '{:.2f} ± {:.2f}'.format( np.round(np.mean(sc_roc_results)*100, 2), np.round(np.std(sc_roc_results)*100, 2) ))\n",
    "print('SC_AP mean:', '{:.2f} ± {:.2f}'.format( np.round(np.mean(sc_ap_results)*100, 2), np.round(np.std(sc_ap_results)*100, 2) ))"
   ]
  },
  {
   "cell_type": "code",
   "execution_count": 24,
   "metadata": {},
   "outputs": [
    {
     "name": "stdout",
     "output_type": "stream",
     "text": [
      "10 10\n"
     ]
    }
   ],
   "source": [
    "print(len(sc_roc_results), len(sc_ap_results))"
   ]
  },
  {
   "cell_type": "code",
   "execution_count": 25,
   "metadata": {},
   "outputs": [],
   "source": [
    "model_name = 'spectral_clustering'"
   ]
  },
  {
   "cell_type": "code",
   "execution_count": 30,
   "metadata": {},
   "outputs": [],
   "source": [
    "log_dict= OrderedDict()\n",
    "log_dict['model'] = model_name\n",
    "log_dict['datetime'] = datetime.now().strftime(\"%Y-%m-%d %H:%M:%S\")\n",
    "log_dict['settings'] = {'dim':dim, 'niter':n_iter}\n",
    "log_dict['roc_all'] = sc_roc_results\n",
    "log_dict['roc_mean'] = np.mean(sc_roc_results)\n",
    "log_dict['roc_std'] = np.std(sc_roc_results)\n",
    "log_dict['ap_all'] = sc_ap_results\n",
    "log_dict['ap_mean'] = np.mean(sc_ap_results)\n",
    "log_dict['ap_std'] = np.std(sc_ap_results)"
   ]
  },
  {
   "cell_type": "code",
   "execution_count": 31,
   "metadata": {},
   "outputs": [
    {
     "data": {
      "text/html": [
       "<div>\n",
       "<style scoped>\n",
       "    .dataframe tbody tr th:only-of-type {\n",
       "        vertical-align: middle;\n",
       "    }\n",
       "\n",
       "    .dataframe tbody tr th {\n",
       "        vertical-align: top;\n",
       "    }\n",
       "\n",
       "    .dataframe thead th {\n",
       "        text-align: right;\n",
       "    }\n",
       "</style>\n",
       "<table border=\"1\" class=\"dataframe\">\n",
       "  <thead>\n",
       "    <tr style=\"text-align: right;\">\n",
       "      <th></th>\n",
       "      <th>key</th>\n",
       "      <th>value</th>\n",
       "    </tr>\n",
       "  </thead>\n",
       "  <tbody>\n",
       "    <tr>\n",
       "      <th>0</th>\n",
       "      <td>model</td>\n",
       "      <td>spectral_clustering</td>\n",
       "    </tr>\n",
       "    <tr>\n",
       "      <th>1</th>\n",
       "      <td>datetime</td>\n",
       "      <td>2022-02-26 12:56:48</td>\n",
       "    </tr>\n",
       "    <tr>\n",
       "      <th>2</th>\n",
       "      <td>settings</td>\n",
       "      <td>{'dim': 16, 'niter': 10}</td>\n",
       "    </tr>\n",
       "    <tr>\n",
       "      <th>3</th>\n",
       "      <td>roc_all</td>\n",
       "      <td>[0.7127581474033644, 0.7267388043027228, 0.719...</td>\n",
       "    </tr>\n",
       "    <tr>\n",
       "      <th>4</th>\n",
       "      <td>roc_mean</td>\n",
       "      <td>0.720253</td>\n",
       "    </tr>\n",
       "    <tr>\n",
       "      <th>5</th>\n",
       "      <td>roc_std</td>\n",
       "      <td>0.00575293</td>\n",
       "    </tr>\n",
       "    <tr>\n",
       "      <th>6</th>\n",
       "      <td>ap_all</td>\n",
       "      <td>[0.6643389186155679, 0.6841739009996797, 0.671...</td>\n",
       "    </tr>\n",
       "    <tr>\n",
       "      <th>7</th>\n",
       "      <td>ap_mean</td>\n",
       "      <td>0.675562</td>\n",
       "    </tr>\n",
       "    <tr>\n",
       "      <th>8</th>\n",
       "      <td>ap_std</td>\n",
       "      <td>0.00753004</td>\n",
       "    </tr>\n",
       "  </tbody>\n",
       "</table>\n",
       "</div>"
      ],
      "text/plain": [
       "        key                                              value\n",
       "0     model                                spectral_clustering\n",
       "1  datetime                                2022-02-26 12:56:48\n",
       "2  settings                           {'dim': 16, 'niter': 10}\n",
       "3   roc_all  [0.7127581474033644, 0.7267388043027228, 0.719...\n",
       "4  roc_mean                                           0.720253\n",
       "5   roc_std                                         0.00575293\n",
       "6    ap_all  [0.6643389186155679, 0.6841739009996797, 0.671...\n",
       "7   ap_mean                                           0.675562\n",
       "8    ap_std                                         0.00753004"
      ]
     },
     "execution_count": 31,
     "metadata": {},
     "output_type": "execute_result"
    }
   ],
   "source": [
    "pd.DataFrame(log_dict.items(), columns=['key', 'value'])"
   ]
  },
  {
   "cell_type": "code",
   "execution_count": 32,
   "metadata": {},
   "outputs": [],
   "source": [
    "save_file_name = 'SC_results_ADD_patent.json'"
   ]
  },
  {
   "cell_type": "code",
   "execution_count": 34,
   "metadata": {},
   "outputs": [
    {
     "name": "stdout",
     "output_type": "stream",
     "text": [
      "Last data saved at: 2022-02-26 12:57:10\n",
      "Total data num: 1\n"
     ]
    }
   ],
   "source": [
    "data = json.load(open('../results/'+save_file_name))\n",
    "data.append(log_dict)\n",
    "with open('../results/'+save_file_name, 'w') as f:\n",
    "    json.dump(data, f)\n",
    "print(\"Last data saved at: {}\".format(datetime.now().strftime(\"%Y-%m-%d %H:%M:%S\")))\n",
    "print(\"Total data num: {}\".format(len(data)))"
   ]
  },
  {
   "cell_type": "code",
   "execution_count": 33,
   "metadata": {},
   "outputs": [],
   "source": [
    "# empty = []\n",
    "# with open('../results/'+save_file_name, 'w') as f:\n",
    "#     json.dump(empty, f)"
   ]
  },
  {
   "cell_type": "code",
   "execution_count": 38,
   "metadata": {},
   "outputs": [],
   "source": [
    "n_iter = 10\n",
    "dim = 16\n",
    "walk_len = 8\n",
    "num_walk = 8\n",
    "window = 4"
   ]
  },
  {
   "cell_type": "code",
   "execution_count": 35,
   "metadata": {},
   "outputs": [
    {
     "data": {
      "application/vnd.jupyter.widget-view+json": {
       "model_id": "60fc686cf0e84dd2aeac301d1ae13d04",
       "version_major": 2,
       "version_minor": 0
      },
      "text/plain": [
       "HBox(children=(FloatProgress(value=0.0, description='Computing transition probabilities', max=322.0, style=Pro…"
      ]
     },
     "metadata": {},
     "output_type": "display_data"
    },
    {
     "name": "stderr",
     "output_type": "stream",
     "text": [
      "Generating walks (CPU: 1):  25%|██████████████▎                                          | 2/8 [00:00<00:00, 15.87it/s]"
     ]
    },
    {
     "name": "stdout",
     "output_type": "stream",
     "text": [
      "\n"
     ]
    },
    {
     "name": "stderr",
     "output_type": "stream",
     "text": [
      "Generating walks (CPU: 1): 100%|█████████████████████████████████████████████████████████| 8/8 [00:00<00:00,  8.54it/s]\n"
     ]
    },
    {
     "name": "stdout",
     "output_type": "stream",
     "text": [
      "Experiment 1 result - ROC(AUC) score: 0.6565, AP score: 0.6177\n"
     ]
    },
    {
     "data": {
      "application/vnd.jupyter.widget-view+json": {
       "model_id": "f56e88f62798452f8d3ca80dfe8b046d",
       "version_major": 2,
       "version_minor": 0
      },
      "text/plain": [
       "HBox(children=(FloatProgress(value=0.0, description='Computing transition probabilities', max=322.0, style=Pro…"
      ]
     },
     "metadata": {},
     "output_type": "display_data"
    },
    {
     "name": "stdout",
     "output_type": "stream",
     "text": [
      "\n"
     ]
    },
    {
     "name": "stderr",
     "output_type": "stream",
     "text": [
      "Generating walks (CPU: 1): 100%|█████████████████████████████████████████████████████████| 8/8 [00:00<00:00,  8.22it/s]\n"
     ]
    },
    {
     "name": "stdout",
     "output_type": "stream",
     "text": [
      "Experiment 2 result - ROC(AUC) score: 0.6728, AP score: 0.6228\n"
     ]
    },
    {
     "data": {
      "application/vnd.jupyter.widget-view+json": {
       "model_id": "5b8547df712049cc808317eed935109f",
       "version_major": 2,
       "version_minor": 0
      },
      "text/plain": [
       "HBox(children=(FloatProgress(value=0.0, description='Computing transition probabilities', max=322.0, style=Pro…"
      ]
     },
     "metadata": {},
     "output_type": "display_data"
    },
    {
     "name": "stdout",
     "output_type": "stream",
     "text": [
      "\n"
     ]
    },
    {
     "name": "stderr",
     "output_type": "stream",
     "text": [
      "Generating walks (CPU: 1): 100%|█████████████████████████████████████████████████████████| 8/8 [00:00<00:00,  8.47it/s]\n"
     ]
    },
    {
     "name": "stdout",
     "output_type": "stream",
     "text": [
      "Experiment 3 result - ROC(AUC) score: 0.6815, AP score: 0.6236\n"
     ]
    },
    {
     "data": {
      "application/vnd.jupyter.widget-view+json": {
       "model_id": "20842e4f442f412aaf1f38b01326b70a",
       "version_major": 2,
       "version_minor": 0
      },
      "text/plain": [
       "HBox(children=(FloatProgress(value=0.0, description='Computing transition probabilities', max=322.0, style=Pro…"
      ]
     },
     "metadata": {},
     "output_type": "display_data"
    },
    {
     "name": "stdout",
     "output_type": "stream",
     "text": [
      "\n"
     ]
    },
    {
     "name": "stderr",
     "output_type": "stream",
     "text": [
      "Generating walks (CPU: 1): 100%|█████████████████████████████████████████████████████████| 8/8 [00:00<00:00,  8.33it/s]\n"
     ]
    },
    {
     "name": "stdout",
     "output_type": "stream",
     "text": [
      "Experiment 4 result - ROC(AUC) score: 0.6576, AP score: 0.6006\n"
     ]
    },
    {
     "data": {
      "application/vnd.jupyter.widget-view+json": {
       "model_id": "207feaa4a7b14d5d83aa05901746612c",
       "version_major": 2,
       "version_minor": 0
      },
      "text/plain": [
       "HBox(children=(FloatProgress(value=0.0, description='Computing transition probabilities', max=322.0, style=Pro…"
      ]
     },
     "metadata": {},
     "output_type": "display_data"
    },
    {
     "name": "stderr",
     "output_type": "stream",
     "text": [
      "Generating walks (CPU: 1):  25%|██████████████▎                                          | 2/8 [00:00<00:00, 15.87it/s]"
     ]
    },
    {
     "name": "stdout",
     "output_type": "stream",
     "text": [
      "\n"
     ]
    },
    {
     "name": "stderr",
     "output_type": "stream",
     "text": [
      "Generating walks (CPU: 1): 100%|█████████████████████████████████████████████████████████| 8/8 [00:01<00:00,  7.91it/s]\n"
     ]
    },
    {
     "name": "stdout",
     "output_type": "stream",
     "text": [
      "Experiment 5 result - ROC(AUC) score: 0.6554, AP score: 0.6175\n"
     ]
    },
    {
     "data": {
      "application/vnd.jupyter.widget-view+json": {
       "model_id": "025918017fb64451ac5f1abd4afa91fa",
       "version_major": 2,
       "version_minor": 0
      },
      "text/plain": [
       "HBox(children=(FloatProgress(value=0.0, description='Computing transition probabilities', max=322.0, style=Pro…"
      ]
     },
     "metadata": {},
     "output_type": "display_data"
    },
    {
     "name": "stderr",
     "output_type": "stream",
     "text": [
      "Generating walks (CPU: 1):  25%|██████████████▎                                          | 2/8 [00:00<00:00, 15.87it/s]"
     ]
    },
    {
     "name": "stdout",
     "output_type": "stream",
     "text": [
      "\n"
     ]
    },
    {
     "name": "stderr",
     "output_type": "stream",
     "text": [
      "Generating walks (CPU: 1): 100%|█████████████████████████████████████████████████████████| 8/8 [00:00<00:00,  8.32it/s]\n"
     ]
    },
    {
     "name": "stdout",
     "output_type": "stream",
     "text": [
      "Experiment 6 result - ROC(AUC) score: 0.6647, AP score: 0.6146\n"
     ]
    },
    {
     "data": {
      "application/vnd.jupyter.widget-view+json": {
       "model_id": "7705682c460647dbb259d7f53f2cef3c",
       "version_major": 2,
       "version_minor": 0
      },
      "text/plain": [
       "HBox(children=(FloatProgress(value=0.0, description='Computing transition probabilities', max=322.0, style=Pro…"
      ]
     },
     "metadata": {},
     "output_type": "display_data"
    },
    {
     "name": "stdout",
     "output_type": "stream",
     "text": [
      "\n"
     ]
    },
    {
     "name": "stderr",
     "output_type": "stream",
     "text": [
      "Generating walks (CPU: 1): 100%|█████████████████████████████████████████████████████████| 8/8 [00:00<00:00,  8.50it/s]\n"
     ]
    },
    {
     "name": "stdout",
     "output_type": "stream",
     "text": [
      "Experiment 7 result - ROC(AUC) score: 0.6849, AP score: 0.6415\n"
     ]
    },
    {
     "data": {
      "application/vnd.jupyter.widget-view+json": {
       "model_id": "769db5b5cf3245edb251729a01d6d14c",
       "version_major": 2,
       "version_minor": 0
      },
      "text/plain": [
       "HBox(children=(FloatProgress(value=0.0, description='Computing transition probabilities', max=322.0, style=Pro…"
      ]
     },
     "metadata": {},
     "output_type": "display_data"
    },
    {
     "name": "stdout",
     "output_type": "stream",
     "text": [
      "\n"
     ]
    },
    {
     "name": "stderr",
     "output_type": "stream",
     "text": [
      "Generating walks (CPU: 1): 100%|█████████████████████████████████████████████████████████| 8/8 [00:00<00:00,  8.35it/s]\n"
     ]
    },
    {
     "name": "stdout",
     "output_type": "stream",
     "text": [
      "Experiment 8 result - ROC(AUC) score: 0.6771, AP score: 0.6317\n"
     ]
    },
    {
     "data": {
      "application/vnd.jupyter.widget-view+json": {
       "model_id": "cf5a5e81f80b46d0b90375264caef273",
       "version_major": 2,
       "version_minor": 0
      },
      "text/plain": [
       "HBox(children=(FloatProgress(value=0.0, description='Computing transition probabilities', max=322.0, style=Pro…"
      ]
     },
     "metadata": {},
     "output_type": "display_data"
    },
    {
     "name": "stdout",
     "output_type": "stream",
     "text": [
      "\n"
     ]
    },
    {
     "name": "stderr",
     "output_type": "stream",
     "text": [
      "Generating walks (CPU: 1): 100%|█████████████████████████████████████████████████████████| 8/8 [00:00<00:00,  8.38it/s]\n"
     ]
    },
    {
     "name": "stdout",
     "output_type": "stream",
     "text": [
      "Experiment 9 result - ROC(AUC) score: 0.6599, AP score: 0.6064\n"
     ]
    },
    {
     "data": {
      "application/vnd.jupyter.widget-view+json": {
       "model_id": "aa2c266428014433a5999ced327e42b3",
       "version_major": 2,
       "version_minor": 0
      },
      "text/plain": [
       "HBox(children=(FloatProgress(value=0.0, description='Computing transition probabilities', max=322.0, style=Pro…"
      ]
     },
     "metadata": {},
     "output_type": "display_data"
    },
    {
     "name": "stderr",
     "output_type": "stream",
     "text": [
      "Generating walks (CPU: 1):   0%|                                                                 | 0/8 [00:00<?, ?it/s]"
     ]
    },
    {
     "name": "stdout",
     "output_type": "stream",
     "text": [
      "\n"
     ]
    },
    {
     "name": "stderr",
     "output_type": "stream",
     "text": [
      "Generating walks (CPU: 1): 100%|█████████████████████████████████████████████████████████| 8/8 [00:01<00:00,  7.35it/s]\n"
     ]
    },
    {
     "name": "stdout",
     "output_type": "stream",
     "text": [
      "Experiment 10 result - ROC(AUC) score: 0.6535, AP score: 0.5994\n"
     ]
    }
   ],
   "source": [
    "dw_roc_results = []\n",
    "dw_ap_results = []\n",
    "for i in range(n_iter):\n",
    "    \n",
    "    G_train = nx.from_scipy_sparse_matrix(train_adj)\n",
    "    \n",
    "    model_train = Node2Vec(G_train, dimensions=dim, walk_length=walk_len, num_walks=num_walk)\n",
    "    n2v_train = model_train.fit(window=window, min_count=3)\n",
    "    edge_emb = n2v_train.wv\n",
    "    \n",
    "    emb_list = []\n",
    "    for node_index in range(0, train_adj.shape[0]):\n",
    "        node_emb = edge_emb[str(node_index)]\n",
    "        emb_list.append(node_emb)\n",
    "    emb_matrix = np.vstack(emb_list)\n",
    "\n",
    "    n2v_score_matrix = np.dot(emb_matrix, emb_matrix.T)\n",
    "    n2v_val_roc, n2v_val_ap = get_roc_score(val_edges, val_non_edges, n2v_score_matrix, apply_sigmoid=True)\n",
    "    \n",
    "    dw_roc_results.append(n2v_val_roc)\n",
    "    dw_ap_results.append(n2v_val_ap)\n",
    "    \n",
    "    print('Experiment {} result - ROC(AUC) score: {}, AP score: {}'.format(i+1, np.round(n2v_val_roc, 4), np.round(n2v_val_ap, 4)), end='\\n')"
   ]
  },
  {
   "cell_type": "code",
   "execution_count": 39,
   "metadata": {},
   "outputs": [
    {
     "name": "stdout",
     "output_type": "stream",
     "text": [
      "DW_AUC mean: 66.64 ± 1.11\n",
      "DW_AP mean: 61.76 ± 1.26\n"
     ]
    }
   ],
   "source": [
    "print('DW_AUC mean:', '{:.2f} ± {:.2f}'.format( np.round(np.mean(dw_roc_results)*100, 2), np.round(np.std(dw_roc_results)*100, 2) ))\n",
    "print('DW_AP mean:', '{:.2f} ± {:.2f}'.format( np.round(np.mean(dw_ap_results)*100, 2), np.round(np.std(dw_ap_results)*100, 2) ))"
   ]
  },
  {
   "cell_type": "markdown",
   "metadata": {},
   "source": [
    "#### SAVE DATA"
   ]
  },
  {
   "cell_type": "code",
   "execution_count": 40,
   "metadata": {},
   "outputs": [
    {
     "name": "stdout",
     "output_type": "stream",
     "text": [
      "10 10\n"
     ]
    }
   ],
   "source": [
    "print(len(dw_roc_results), len(dw_ap_results))"
   ]
  },
  {
   "cell_type": "code",
   "execution_count": 41,
   "metadata": {},
   "outputs": [],
   "source": [
    "model_name = 'deepwalk'"
   ]
  },
  {
   "cell_type": "code",
   "execution_count": 42,
   "metadata": {},
   "outputs": [],
   "source": [
    "log_dict= OrderedDict()\n",
    "log_dict['model'] = model_name\n",
    "log_dict['datetime'] = datetime.now().strftime(\"%Y-%m-%d %H:%M:%S\")\n",
    "log_dict['settings'] = {'dim':dim, 'walk_len':walk_len, 'num_walk':num_walk, 'window_size':window, 'niter':n_iter}\n",
    "log_dict['roc_all'] = dw_roc_results\n",
    "log_dict['roc_mean'] = np.mean(dw_roc_results)\n",
    "log_dict['roc_std'] = np.std(dw_roc_results)\n",
    "log_dict['ap_all'] = dw_ap_results\n",
    "log_dict['ap_mean'] = np.mean(dw_ap_results)\n",
    "log_dict['ap_std'] = np.std(dw_ap_results)"
   ]
  },
  {
   "cell_type": "code",
   "execution_count": 43,
   "metadata": {},
   "outputs": [
    {
     "data": {
      "text/html": [
       "<div>\n",
       "<style scoped>\n",
       "    .dataframe tbody tr th:only-of-type {\n",
       "        vertical-align: middle;\n",
       "    }\n",
       "\n",
       "    .dataframe tbody tr th {\n",
       "        vertical-align: top;\n",
       "    }\n",
       "\n",
       "    .dataframe thead th {\n",
       "        text-align: right;\n",
       "    }\n",
       "</style>\n",
       "<table border=\"1\" class=\"dataframe\">\n",
       "  <thead>\n",
       "    <tr style=\"text-align: right;\">\n",
       "      <th></th>\n",
       "      <th>key</th>\n",
       "      <th>value</th>\n",
       "    </tr>\n",
       "  </thead>\n",
       "  <tbody>\n",
       "    <tr>\n",
       "      <th>0</th>\n",
       "      <td>model</td>\n",
       "      <td>deepwalk</td>\n",
       "    </tr>\n",
       "    <tr>\n",
       "      <th>1</th>\n",
       "      <td>datetime</td>\n",
       "      <td>2022-02-26 13:02:10</td>\n",
       "    </tr>\n",
       "    <tr>\n",
       "      <th>2</th>\n",
       "      <td>settings</td>\n",
       "      <td>{'dim': 16, 'walk_len': 8, 'num_walk': 8, 'win...</td>\n",
       "    </tr>\n",
       "    <tr>\n",
       "      <th>3</th>\n",
       "      <td>roc_all</td>\n",
       "      <td>[0.6565482460340261, 0.6727632544926425, 0.681...</td>\n",
       "    </tr>\n",
       "    <tr>\n",
       "      <th>4</th>\n",
       "      <td>roc_mean</td>\n",
       "      <td>0.666379</td>\n",
       "    </tr>\n",
       "    <tr>\n",
       "      <th>5</th>\n",
       "      <td>roc_std</td>\n",
       "      <td>0.0110935</td>\n",
       "    </tr>\n",
       "    <tr>\n",
       "      <th>6</th>\n",
       "      <td>ap_all</td>\n",
       "      <td>[0.6177477992728284, 0.6227583521818516, 0.623...</td>\n",
       "    </tr>\n",
       "    <tr>\n",
       "      <th>7</th>\n",
       "      <td>ap_mean</td>\n",
       "      <td>0.61757</td>\n",
       "    </tr>\n",
       "    <tr>\n",
       "      <th>8</th>\n",
       "      <td>ap_std</td>\n",
       "      <td>0.0125918</td>\n",
       "    </tr>\n",
       "  </tbody>\n",
       "</table>\n",
       "</div>"
      ],
      "text/plain": [
       "        key                                              value\n",
       "0     model                                           deepwalk\n",
       "1  datetime                                2022-02-26 13:02:10\n",
       "2  settings  {'dim': 16, 'walk_len': 8, 'num_walk': 8, 'win...\n",
       "3   roc_all  [0.6565482460340261, 0.6727632544926425, 0.681...\n",
       "4  roc_mean                                           0.666379\n",
       "5   roc_std                                          0.0110935\n",
       "6    ap_all  [0.6177477992728284, 0.6227583521818516, 0.623...\n",
       "7   ap_mean                                            0.61757\n",
       "8    ap_std                                          0.0125918"
      ]
     },
     "execution_count": 43,
     "metadata": {},
     "output_type": "execute_result"
    }
   ],
   "source": [
    "pd.DataFrame(log_dict.items(), columns=['key', 'value'])"
   ]
  },
  {
   "cell_type": "code",
   "execution_count": 44,
   "metadata": {},
   "outputs": [],
   "source": [
    "save_file_name = 'DW_results_ADD_patent.json'"
   ]
  },
  {
   "cell_type": "code",
   "execution_count": 46,
   "metadata": {},
   "outputs": [
    {
     "name": "stdout",
     "output_type": "stream",
     "text": [
      "Last data saved at: 2022-02-26 13:02:44\n",
      "Total data num: 1\n"
     ]
    }
   ],
   "source": [
    "data = json.load(open('../results/'+save_file_name))\n",
    "data.append(log_dict)\n",
    "with open('../results/'+save_file_name, 'w') as f:\n",
    "    json.dump(data, f)\n",
    "print(\"Last data saved at: {}\".format(datetime.now().strftime(\"%Y-%m-%d %H:%M:%S\")))\n",
    "print(\"Total data num: {}\".format(len(data)))"
   ]
  },
  {
   "cell_type": "code",
   "execution_count": 45,
   "metadata": {},
   "outputs": [],
   "source": [
    "# empty = []\n",
    "# with open('../results/'+save_file_name, 'w') as f:\n",
    "#     json.dump(empty, f)"
   ]
  },
  {
   "cell_type": "code",
   "execution_count": null,
   "metadata": {},
   "outputs": [],
   "source": []
  }
 ],
 "metadata": {
  "kernelspec": {
   "display_name": "Python 3",
   "language": "python",
   "name": "python3"
  },
  "language_info": {
   "codemirror_mode": {
    "name": "ipython",
    "version": 3
   },
   "file_extension": ".py",
   "mimetype": "text/x-python",
   "name": "python",
   "nbconvert_exporter": "python",
   "pygments_lexer": "ipython3",
   "version": "3.8.3"
  }
 },
 "nbformat": 4,
 "nbformat_minor": 5
}
